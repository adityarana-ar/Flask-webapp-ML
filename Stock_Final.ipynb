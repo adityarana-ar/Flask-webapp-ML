{
  "cells": [
    {
      "cell_type": "code",
      "execution_count": 1,
      "metadata": {
        "colab": {
          "base_uri": "https://localhost:8080/"
        },
        "id": "R83I1d-wKkmK",
        "outputId": "422d4994-fb0a-4661-ec72-d9aa656039c4"
      },
      "outputs": [
        {
          "ename": "ModuleNotFoundError",
          "evalue": "No module named 'yfinance'",
          "output_type": "error",
          "traceback": [
            "\u001b[0;31m---------------------------------------------------------------------------\u001b[0m",
            "\u001b[0;31mModuleNotFoundError\u001b[0m                       Traceback (most recent call last)",
            "Cell \u001b[0;32mIn[1], line 2\u001b[0m\n\u001b[1;32m      1\u001b[0m \u001b[38;5;28;01mimport\u001b[39;00m \u001b[38;5;21;01mpandas\u001b[39;00m \u001b[38;5;28;01mas\u001b[39;00m \u001b[38;5;21;01mpd\u001b[39;00m\n\u001b[0;32m----> 2\u001b[0m \u001b[38;5;28;01mimport\u001b[39;00m \u001b[38;5;21;01myfinance\u001b[39;00m \u001b[38;5;28;01mas\u001b[39;00m \u001b[38;5;21;01myf\u001b[39;00m\n\u001b[1;32m      3\u001b[0m \u001b[38;5;28;01mimport\u001b[39;00m \u001b[38;5;21;01mnumpy\u001b[39;00m \u001b[38;5;28;01mas\u001b[39;00m \u001b[38;5;21;01mnp\u001b[39;00m\n\u001b[1;32m      4\u001b[0m get_ipython()\u001b[38;5;241m.\u001b[39msystem(\u001b[38;5;124m'\u001b[39m\u001b[38;5;124m pip install pandas_ta==0.2.45b\u001b[39m\u001b[38;5;124m'\u001b[39m)\n",
            "\u001b[0;31mModuleNotFoundError\u001b[0m: No module named 'yfinance'"
          ]
        }
      ],
      "source": [
        "import pandas as pd\n",
        "import yfinance as yf\n",
        "import numpy as np\n",
        "! pip install pandas_ta==0.2.45b\n",
        "import pandas_ta as ta\n",
        "from sklearn.preprocessing import MinMaxScaler\n",
        "import tensorflow as tf\n",
        "from keras import optimizers\n",
        "from keras.callbacks import History\n",
        "from keras.models import Model\n",
        "from keras.models import Sequential\n",
        "from keras.layers import LSTM, Dense, Dropout, TimeDistributed, Input, Activation, Concatenate\n",
        "from matplotlib import pyplot as plt\n",
        "import seaborn as sns\n",
        "\n",
        "# Importing dataframe from yahoo finance\n",
        "df = yf.download(tickers = 'AAPL', start = '2020-01-01', end = '2023-06-23')\n",
        "print(df) # preview of df\n",
        "\n"
      ]
    },
    {
      "cell_type": "code",
      "execution_count": null,
      "metadata": {
        "colab": {
          "base_uri": "https://localhost:8080/"
        },
        "id": "cwT0iCLOLMAr",
        "outputId": "9f91d4bf-ba97-4142-e7aa-8699a48a12b1"
      },
      "outputs": [
        {
          "name": "stdout",
          "output_type": "stream",
          "text": [
            "           Open        High         Low       Close   Adj Close     Volume  \\\n",
            "0     80.875000   81.059998   79.125000   79.182503   77.741524  125522000   \n",
            "1     79.035004   79.677498   78.272499   79.527496   78.080238  112945200   \n",
            "2     79.192497   80.860001   78.907501   79.562500   78.114586  133560800   \n",
            "3     79.812500   80.287498   79.117500   79.485001   78.038513  153532400   \n",
            "4     79.437500   80.587502   79.302498   80.462502   78.998215   80791200   \n",
            "..          ...         ...         ...         ...         ...        ...   \n",
            "769  183.369995  184.389999  182.020004  183.949997  183.949997   57462900   \n",
            "770  183.960007  186.520004  183.779999  186.009995  186.009995   65433200   \n",
            "771  186.729996  186.990005  184.270004  184.919998  184.919998  101235600   \n",
            "772  184.410004  186.100006  184.410004  185.009995  185.009995   49799100   \n",
            "773  184.899994  185.410004  182.589996  183.960007  183.960007   49515700   \n",
            "\n",
            "           RSI        EMAF        EMAM        EMAS      Target       Date  \n",
            "0    63.087694   76.359896   73.748731   73.009175   78.080238 2020-05-26  \n",
            "1    63.856691   76.661573   73.938199   73.138251   78.114586 2020-05-27  \n",
            "2    63.938361   76.937851   74.122602   73.265463   78.038513 2020-05-28  \n",
            "3    63.597463   77.180437   74.298419   73.388623   78.998215 2020-05-29  \n",
            "4    66.044052   77.493015   74.500520   73.528699   79.363937 2020-06-01  \n",
            "..         ...         ...         ...         ...         ...        ...  \n",
            "769  70.608966  178.254492  170.031236  164.485801  186.009995 2023-06-14  \n",
            "770  73.506809  178.993111  170.555130  164.912022  184.919998 2023-06-15  \n",
            "771  69.615570  179.557577  171.026109  165.308220  185.009995 2023-06-16  \n",
            "772  69.757196  180.076855  171.484597  165.698354  183.960007 2023-06-20  \n",
            "773  65.916490  180.446679  171.893627  166.059971  187.000000 2023-06-21  \n",
            "\n",
            "[774 rows x 12 columns]\n"
          ]
        },
        {
          "name": "stderr",
          "output_type": "stream",
          "text": [
            "<ipython-input-38-ccacdae824f3>:15: SettingWithCopyWarning: \n",
            "A value is trying to be set on a copy of a slice from a DataFrame.\n",
            "Try using .loc[row_indexer,col_indexer] = value instead\n",
            "\n",
            "See the caveats in the documentation: https://pandas.pydata.org/pandas-docs/stable/user_guide/indexing.html#returning-a-view-versus-a-copy\n",
            "  df['Date'] = dates\n"
          ]
        }
      ],
      "source": [
        "# Adding other indicators\n",
        "og_dates = df.index\n",
        "df['RSI'] = ta.rsi(df.Close, length=15) #RSI\n",
        "df['EMAF'] = ta.ema(df.Close, length=20) # Exponential Moving Average with short period\n",
        "df['EMAM'] = ta.ema(df.Close, length=60) # EMA with medium period\n",
        "df['EMAS'] = ta.ema(df.Close, length=100) # EMA with long period\n",
        "df['Target'] = df['Adj Close'].shift(-1) # Next day's Adjusted Closing price\n",
        "df = df.dropna()\n",
        "# Separating the dates as they are the index here\n",
        "dates = df.index\n",
        "indeces = []\n",
        "for i in range(len(dates)):\n",
        "  indeces.append(i)\n",
        "df.index = indeces\n",
        "df['Date'] = dates\n",
        "# print(df.index)\n",
        "df.head(20)\n",
        "og_df = df\n",
        "# print(dates)\n",
        "# print(dates)\n",
        "print(og_df)"
      ]
    },
    {
      "cell_type": "code",
      "execution_count": null,
      "metadata": {
        "colab": {
          "base_uri": "https://localhost:8080/"
        },
        "id": "MnzaBlhCpTLK",
        "outputId": "77f83a5c-508c-4958-e97b-dd52b2086d7e"
      },
      "outputs": [
        {
          "name": "stdout",
          "output_type": "stream",
          "text": [
            "['Open', 'High', 'Low', 'Close', 'Adj Close', 'Volume', 'RSI', 'EMAF', 'EMAM', 'EMAS', 'Target', 'Date']\n"
          ]
        }
      ],
      "source": [
        "cols = list(df)\n",
        "print(cols)"
      ]
    },
    {
      "cell_type": "code",
      "execution_count": null,
      "metadata": {
        "colab": {
          "base_uri": "https://localhost:8080/"
        },
        "id": "iwFn8gC9uLvH",
        "outputId": "2202dc33-5152-44b3-f4a7-c459e1326abf"
      },
      "outputs": [
        {
          "name": "stdout",
          "output_type": "stream",
          "text": [
            "['Open', 'High', 'Low', 'Adj Close', 'RSI', 'EMAF', 'EMAM', 'EMAS', 'Target']\n"
          ]
        }
      ],
      "source": [
        "cols.pop(3)\n",
        "cols.pop(4)\n",
        "cols.pop(-1)\n",
        "print(cols)"
      ]
    },
    {
      "cell_type": "code",
      "execution_count": null,
      "metadata": {
        "id": "5Xp9IKuCvmQz"
      },
      "outputs": [],
      "source": [
        "df = df[cols].astype(float)"
      ]
    },
    {
      "cell_type": "code",
      "execution_count": null,
      "metadata": {
        "colab": {
          "base_uri": "https://localhost:8080/",
          "height": 288
        },
        "id": "rj-6Ho22v_n-",
        "outputId": "2b9db978-6151-4f85-c3b1-8e82f9af725f"
      },
      "outputs": [
        {
          "data": {
            "text/html": [
              "\n",
              "  <div id=\"df-0deb2813-aa46-4168-b8e8-6f5d446d4b23\">\n",
              "    <div class=\"colab-df-container\">\n",
              "      <div>\n",
              "<style scoped>\n",
              "    .dataframe tbody tr th:only-of-type {\n",
              "        vertical-align: middle;\n",
              "    }\n",
              "\n",
              "    .dataframe tbody tr th {\n",
              "        vertical-align: top;\n",
              "    }\n",
              "\n",
              "    .dataframe thead th {\n",
              "        text-align: right;\n",
              "    }\n",
              "</style>\n",
              "<table border=\"1\" class=\"dataframe\">\n",
              "  <thead>\n",
              "    <tr style=\"text-align: right;\">\n",
              "      <th></th>\n",
              "      <th>Open</th>\n",
              "      <th>High</th>\n",
              "      <th>Low</th>\n",
              "      <th>Adj Close</th>\n",
              "      <th>RSI</th>\n",
              "      <th>EMAF</th>\n",
              "      <th>EMAM</th>\n",
              "      <th>EMAS</th>\n",
              "      <th>Target</th>\n",
              "    </tr>\n",
              "  </thead>\n",
              "  <tbody>\n",
              "    <tr>\n",
              "      <th>0</th>\n",
              "      <td>80.875000</td>\n",
              "      <td>81.059998</td>\n",
              "      <td>79.125000</td>\n",
              "      <td>77.741524</td>\n",
              "      <td>63.087694</td>\n",
              "      <td>76.359896</td>\n",
              "      <td>73.748731</td>\n",
              "      <td>73.009175</td>\n",
              "      <td>78.080238</td>\n",
              "    </tr>\n",
              "    <tr>\n",
              "      <th>1</th>\n",
              "      <td>79.035004</td>\n",
              "      <td>79.677498</td>\n",
              "      <td>78.272499</td>\n",
              "      <td>78.080238</td>\n",
              "      <td>63.856691</td>\n",
              "      <td>76.661573</td>\n",
              "      <td>73.938199</td>\n",
              "      <td>73.138251</td>\n",
              "      <td>78.114586</td>\n",
              "    </tr>\n",
              "    <tr>\n",
              "      <th>2</th>\n",
              "      <td>79.192497</td>\n",
              "      <td>80.860001</td>\n",
              "      <td>78.907501</td>\n",
              "      <td>78.114586</td>\n",
              "      <td>63.938361</td>\n",
              "      <td>76.937851</td>\n",
              "      <td>74.122602</td>\n",
              "      <td>73.265463</td>\n",
              "      <td>78.038513</td>\n",
              "    </tr>\n",
              "    <tr>\n",
              "      <th>3</th>\n",
              "      <td>79.812500</td>\n",
              "      <td>80.287498</td>\n",
              "      <td>79.117500</td>\n",
              "      <td>78.038513</td>\n",
              "      <td>63.597463</td>\n",
              "      <td>77.180437</td>\n",
              "      <td>74.298419</td>\n",
              "      <td>73.388623</td>\n",
              "      <td>78.998215</td>\n",
              "    </tr>\n",
              "    <tr>\n",
              "      <th>4</th>\n",
              "      <td>79.437500</td>\n",
              "      <td>80.587502</td>\n",
              "      <td>79.302498</td>\n",
              "      <td>78.998215</td>\n",
              "      <td>66.044052</td>\n",
              "      <td>77.493015</td>\n",
              "      <td>74.500520</td>\n",
              "      <td>73.528699</td>\n",
              "      <td>79.363937</td>\n",
              "    </tr>\n",
              "  </tbody>\n",
              "</table>\n",
              "</div>\n",
              "      <button class=\"colab-df-convert\" onclick=\"convertToInteractive('df-0deb2813-aa46-4168-b8e8-6f5d446d4b23')\"\n",
              "              title=\"Convert this dataframe to an interactive table.\"\n",
              "              style=\"display:none;\">\n",
              "        \n",
              "  <svg xmlns=\"http://www.w3.org/2000/svg\" height=\"24px\"viewBox=\"0 0 24 24\"\n",
              "       width=\"24px\">\n",
              "    <path d=\"M0 0h24v24H0V0z\" fill=\"none\"/>\n",
              "    <path d=\"M18.56 5.44l.94 2.06.94-2.06 2.06-.94-2.06-.94-.94-2.06-.94 2.06-2.06.94zm-11 1L8.5 8.5l.94-2.06 2.06-.94-2.06-.94L8.5 2.5l-.94 2.06-2.06.94zm10 10l.94 2.06.94-2.06 2.06-.94-2.06-.94-.94-2.06-.94 2.06-2.06.94z\"/><path d=\"M17.41 7.96l-1.37-1.37c-.4-.4-.92-.59-1.43-.59-.52 0-1.04.2-1.43.59L10.3 9.45l-7.72 7.72c-.78.78-.78 2.05 0 2.83L4 21.41c.39.39.9.59 1.41.59.51 0 1.02-.2 1.41-.59l7.78-7.78 2.81-2.81c.8-.78.8-2.07 0-2.86zM5.41 20L4 18.59l7.72-7.72 1.47 1.35L5.41 20z\"/>\n",
              "  </svg>\n",
              "      </button>\n",
              "      \n",
              "  <style>\n",
              "    .colab-df-container {\n",
              "      display:flex;\n",
              "      flex-wrap:wrap;\n",
              "      gap: 12px;\n",
              "    }\n",
              "\n",
              "    .colab-df-convert {\n",
              "      background-color: #E8F0FE;\n",
              "      border: none;\n",
              "      border-radius: 50%;\n",
              "      cursor: pointer;\n",
              "      display: none;\n",
              "      fill: #1967D2;\n",
              "      height: 32px;\n",
              "      padding: 0 0 0 0;\n",
              "      width: 32px;\n",
              "    }\n",
              "\n",
              "    .colab-df-convert:hover {\n",
              "      background-color: #E2EBFA;\n",
              "      box-shadow: 0px 1px 2px rgba(60, 64, 67, 0.3), 0px 1px 3px 1px rgba(60, 64, 67, 0.15);\n",
              "      fill: #174EA6;\n",
              "    }\n",
              "\n",
              "    [theme=dark] .colab-df-convert {\n",
              "      background-color: #3B4455;\n",
              "      fill: #D2E3FC;\n",
              "    }\n",
              "\n",
              "    [theme=dark] .colab-df-convert:hover {\n",
              "      background-color: #434B5C;\n",
              "      box-shadow: 0px 1px 3px 1px rgba(0, 0, 0, 0.15);\n",
              "      filter: drop-shadow(0px 1px 2px rgba(0, 0, 0, 0.3));\n",
              "      fill: #FFFFFF;\n",
              "    }\n",
              "  </style>\n",
              "\n",
              "      <script>\n",
              "        const buttonEl =\n",
              "          document.querySelector('#df-0deb2813-aa46-4168-b8e8-6f5d446d4b23 button.colab-df-convert');\n",
              "        buttonEl.style.display =\n",
              "          google.colab.kernel.accessAllowed ? 'block' : 'none';\n",
              "\n",
              "        async function convertToInteractive(key) {\n",
              "          const element = document.querySelector('#df-0deb2813-aa46-4168-b8e8-6f5d446d4b23');\n",
              "          const dataTable =\n",
              "            await google.colab.kernel.invokeFunction('convertToInteractive',\n",
              "                                                     [key], {});\n",
              "          if (!dataTable) return;\n",
              "\n",
              "          const docLinkHtml = 'Like what you see? Visit the ' +\n",
              "            '<a target=\"_blank\" href=https://colab.research.google.com/notebooks/data_table.ipynb>data table notebook</a>'\n",
              "            + ' to learn more about interactive tables.';\n",
              "          element.innerHTML = '';\n",
              "          dataTable['output_type'] = 'display_data';\n",
              "          await google.colab.output.renderOutput(dataTable, element);\n",
              "          const docLink = document.createElement('div');\n",
              "          docLink.innerHTML = docLinkHtml;\n",
              "          element.appendChild(docLink);\n",
              "        }\n",
              "      </script>\n",
              "    </div>\n",
              "  </div>\n",
              "  "
            ],
            "text/plain": [
              "        Open       High        Low  Adj Close        RSI       EMAF  \\\n",
              "0  80.875000  81.059998  79.125000  77.741524  63.087694  76.359896   \n",
              "1  79.035004  79.677498  78.272499  78.080238  63.856691  76.661573   \n",
              "2  79.192497  80.860001  78.907501  78.114586  63.938361  76.937851   \n",
              "3  79.812500  80.287498  79.117500  78.038513  63.597463  77.180437   \n",
              "4  79.437500  80.587502  79.302498  78.998215  66.044052  77.493015   \n",
              "\n",
              "        EMAM       EMAS     Target  \n",
              "0  73.748731  73.009175  78.080238  \n",
              "1  73.938199  73.138251  78.114586  \n",
              "2  74.122602  73.265463  78.038513  \n",
              "3  74.298419  73.388623  78.998215  \n",
              "4  74.500520  73.528699  79.363937  "
            ]
          },
          "execution_count": 42,
          "metadata": {},
          "output_type": "execute_result"
        }
      ],
      "source": [
        "df.head()"
      ]
    },
    {
      "cell_type": "code",
      "execution_count": null,
      "metadata": {
        "colab": {
          "base_uri": "https://localhost:8080/"
        },
        "id": "sHhuhTiXwBKI",
        "outputId": "74c72db4-0175-4ef2-c071-806ed157395b"
      },
      "outputs": [
        {
          "name": "stdout",
          "output_type": "stream",
          "text": [
            "           Open        High         Low   Adj Close        RSI        EMAF  \\\n",
            "0     80.875000   81.059998   79.125000   77.741524  63.087694   76.359896   \n",
            "1     79.035004   79.677498   78.272499   78.080238  63.856691   76.661573   \n",
            "2     79.192497   80.860001   78.907501   78.114586  63.938361   76.937851   \n",
            "3     79.812500   80.287498   79.117500   78.038513  63.597463   77.180437   \n",
            "4     79.437500   80.587502   79.302498   78.998215  66.044052   77.493015   \n",
            "..          ...         ...         ...         ...        ...         ...   \n",
            "769  183.369995  184.389999  182.020004  183.949997  70.608966  178.254492   \n",
            "770  183.960007  186.520004  183.779999  186.009995  73.506809  178.993111   \n",
            "771  186.729996  186.990005  184.270004  184.919998  69.615570  179.557577   \n",
            "772  184.410004  186.100006  184.410004  185.009995  69.757196  180.076855   \n",
            "773  184.899994  185.410004  182.589996  183.960007  65.916490  180.446679   \n",
            "\n",
            "           EMAM        EMAS      Target  \n",
            "0     73.748731   73.009175   78.080238  \n",
            "1     73.938199   73.138251   78.114586  \n",
            "2     74.122602   73.265463   78.038513  \n",
            "3     74.298419   73.388623   78.998215  \n",
            "4     74.500520   73.528699   79.363937  \n",
            "..          ...         ...         ...  \n",
            "769  170.031236  164.485801  186.009995  \n",
            "770  170.555130  164.912022  184.919998  \n",
            "771  171.026109  165.308220  185.009995  \n",
            "772  171.484597  165.698354  183.960007  \n",
            "773  171.893627  166.059971  187.000000  \n",
            "\n",
            "[774 rows x 9 columns]\n"
          ]
        }
      ],
      "source": [
        "print(df)"
      ]
    },
    {
      "cell_type": "code",
      "execution_count": null,
      "metadata": {
        "colab": {
          "base_uri": "https://localhost:8080/"
        },
        "id": "iMmq1hEPwEMW",
        "outputId": "329251fc-87cb-40b7-a13d-9719195c8fb4"
      },
      "outputs": [
        {
          "name": "stdout",
          "output_type": "stream",
          "text": [
            "[[1.70852544e-02 1.28829316e-02 8.03204220e-03 ... 0.00000000e+00\n",
            "  0.00000000e+00 3.82934924e-04]\n",
            " [0.00000000e+00 0.00000000e+00 0.00000000e+00 ... 1.93048971e-03\n",
            "  1.38715279e-03 6.98161296e-04]\n",
            " [1.46240404e-03 1.10192444e-02 5.98282519e-03 ... 3.80937822e-03\n",
            "  2.75428627e-03 0.00000000e+00]\n",
            " ...\n",
            " [1.00000000e+00 1.00000000e+00 9.98680962e-01 ... 9.91160846e-01\n",
            "  9.91921068e-01 9.81736616e-01]\n",
            " [9.78457754e-01 9.91706471e-01 1.00000000e+00 ... 9.95832388e-01\n",
            "  9.96113769e-01 9.72100295e-01]\n",
            " [9.83007549e-01 9.85276629e-01 9.82852364e-01 ... 1.00000000e+00\n",
            "  1.00000000e+00 1.00000000e+00]]\n",
            "(774, 9)\n"
          ]
        }
      ],
      "source": [
        "scaler = MinMaxScaler(feature_range=(0,1))\n",
        "df_scaled = scaler.fit_transform(df)\n",
        "print(df_scaled)\n",
        "print(df_scaled.shape)"
      ]
    },
    {
      "cell_type": "code",
      "execution_count": null,
      "metadata": {
        "colab": {
          "base_uri": "https://localhost:8080/"
        },
        "id": "NoKt_Ht7_h9i",
        "outputId": "11ec9639-f690-4914-e344-1d61ddf5cadc"
      },
      "outputs": [
        {
          "data": {
            "text/plain": [
              "(774, 9)"
            ]
          },
          "execution_count": 45,
          "metadata": {},
          "output_type": "execute_result"
        }
      ],
      "source": [
        "X_train = []\n",
        "\n",
        "df_scaled.shape"
      ]
    },
    {
      "cell_type": "code",
      "execution_count": null,
      "metadata": {
        "id": "__SOshqQDrgZ"
      },
      "outputs": [],
      "source": [
        "pastcandles = 10 # past number of days to train the model on\n",
        "\n",
        "for i in range(9): # appending columns and values for the pastcandles to X_train\n",
        "  X_train.append([])\n",
        "  for j in range(pastcandles, df_scaled.shape[0]):\n",
        "    X_train[i].append(df_scaled[j-pastcandles:j, i])\n",
        "\n",
        "# print(X_train)\n",
        "# Moving X axis from 0 to 2\n",
        "X_train = np.moveaxis(X_train, [0], [2])"
      ]
    },
    {
      "cell_type": "code",
      "execution_count": null,
      "metadata": {
        "colab": {
          "base_uri": "https://localhost:8080/"
        },
        "id": "nzaWECMAz7Uc",
        "outputId": "0f919f76-9d14-412a-b91d-01e82fda137f"
      },
      "outputs": [
        {
          "name": "stdout",
          "output_type": "stream",
          "text": [
            "Shape of X:  (764, 10, 9)\n",
            "Shape of Y:  (764, 1)\n"
          ]
        }
      ],
      "source": [
        "X_train = np.array(X_train)\n",
        "Y = np.array(df_scaled[pastcandles:,-1])\n",
        "# Reshaping Y\n",
        "Y = np.reshape(Y, (len(Y), 1))\n",
        "\n",
        "print(\"Shape of X: \", X_train.shape)\n",
        "print(\"Shape of Y: \", Y.shape)"
      ]
    },
    {
      "cell_type": "code",
      "execution_count": null,
      "metadata": {
        "colab": {
          "base_uri": "https://localhost:8080/"
        },
        "id": "dfUqasZH0r3m",
        "outputId": "2887a55c-1746-46d7-c790-d50a59b35257"
      },
      "outputs": [
        {
          "name": "stdout",
          "output_type": "stream",
          "text": [
            "X_train shape:  (611, 10, 9)\n",
            "X_test shape:  (153, 10, 9)\n",
            "Y_train shape:  (611, 1)\n",
            "Y_test shape:  (153, 1)\n"
          ]
        }
      ],
      "source": [
        "# Splitting between training and testing data\n",
        "\n",
        "ratio = int(len(X_train)*0.8)\n",
        "X_train, X_test = X_train[:ratio], X_train[ratio:]\n",
        "Y_train, Y_test = Y[:ratio], Y[ratio:]\n",
        "\n",
        "# Verifying shapes\n",
        "print(\"X_train shape: \", X_train.shape)\n",
        "print(\"X_test shape: \", X_test.shape)\n",
        "print(\"Y_train shape: \", Y_train.shape)\n",
        "print(\"Y_test shape: \", Y_test.shape)"
      ]
    },
    {
      "cell_type": "code",
      "execution_count": null,
      "metadata": {
        "colab": {
          "base_uri": "https://localhost:8080/"
        },
        "id": "n1gUybla3e2b",
        "outputId": "bfec1341-4b2f-4373-febe-581d1b91cf6e"
      },
      "outputs": [
        {
          "name": "stdout",
          "output_type": "stream",
          "text": [
            "Epoch 1/30\n",
            "37/37 [==============================] - 5s 67ms/step - loss: 0.0256 - val_loss: 0.0035\n",
            "Epoch 2/30\n",
            "37/37 [==============================] - 1s 15ms/step - loss: 0.0027 - val_loss: 0.0026\n",
            "Epoch 3/30\n",
            "37/37 [==============================] - 1s 20ms/step - loss: 0.0021 - val_loss: 0.0025\n",
            "Epoch 4/30\n",
            "37/37 [==============================] - 1s 28ms/step - loss: 0.0018 - val_loss: 0.0021\n",
            "Epoch 5/30\n",
            "37/37 [==============================] - 1s 30ms/step - loss: 0.0018 - val_loss: 0.0021\n",
            "Epoch 6/30\n",
            "37/37 [==============================] - 1s 26ms/step - loss: 0.0017 - val_loss: 0.0021\n",
            "Epoch 7/30\n",
            "37/37 [==============================] - 1s 33ms/step - loss: 0.0016 - val_loss: 0.0022\n",
            "Epoch 8/30\n",
            "37/37 [==============================] - 1s 27ms/step - loss: 0.0015 - val_loss: 0.0022\n",
            "Epoch 9/30\n",
            "37/37 [==============================] - 1s 29ms/step - loss: 0.0015 - val_loss: 0.0019\n",
            "Epoch 10/30\n",
            "37/37 [==============================] - 1s 28ms/step - loss: 0.0016 - val_loss: 0.0017\n",
            "Epoch 11/30\n",
            "37/37 [==============================] - 1s 28ms/step - loss: 0.0014 - val_loss: 0.0018\n",
            "Epoch 12/30\n",
            "37/37 [==============================] - 1s 39ms/step - loss: 0.0013 - val_loss: 0.0017\n",
            "Epoch 13/30\n",
            "37/37 [==============================] - 1s 38ms/step - loss: 0.0014 - val_loss: 0.0018\n",
            "Epoch 14/30\n",
            "37/37 [==============================] - 1s 30ms/step - loss: 0.0013 - val_loss: 0.0016\n",
            "Epoch 15/30\n",
            "37/37 [==============================] - 1s 25ms/step - loss: 0.0013 - val_loss: 0.0021\n",
            "Epoch 16/30\n",
            "37/37 [==============================] - 1s 30ms/step - loss: 0.0013 - val_loss: 0.0016\n",
            "Epoch 17/30\n",
            "37/37 [==============================] - 1s 26ms/step - loss: 0.0014 - val_loss: 0.0030\n",
            "Epoch 18/30\n",
            "37/37 [==============================] - 1s 25ms/step - loss: 0.0013 - val_loss: 0.0016\n",
            "Epoch 19/30\n",
            "37/37 [==============================] - 1s 28ms/step - loss: 0.0014 - val_loss: 0.0016\n",
            "Epoch 20/30\n",
            "37/37 [==============================] - 1s 25ms/step - loss: 0.0012 - val_loss: 0.0019\n",
            "Epoch 21/30\n",
            "37/37 [==============================] - 1s 28ms/step - loss: 0.0013 - val_loss: 0.0015\n",
            "Epoch 22/30\n",
            "37/37 [==============================] - 1s 30ms/step - loss: 0.0013 - val_loss: 0.0016\n",
            "Epoch 23/30\n",
            "37/37 [==============================] - 1s 29ms/step - loss: 0.0013 - val_loss: 0.0016\n",
            "Epoch 24/30\n",
            "37/37 [==============================] - 2s 59ms/step - loss: 0.0012 - val_loss: 0.0015\n",
            "Epoch 25/30\n",
            "37/37 [==============================] - 2s 42ms/step - loss: 0.0011 - val_loss: 0.0015\n",
            "Epoch 26/30\n",
            "37/37 [==============================] - 1s 32ms/step - loss: 0.0011 - val_loss: 0.0016\n",
            "Epoch 27/30\n",
            "37/37 [==============================] - 1s 26ms/step - loss: 0.0011 - val_loss: 0.0021\n",
            "Epoch 28/30\n",
            "37/37 [==============================] - 1s 28ms/step - loss: 0.0013 - val_loss: 0.0017\n",
            "Epoch 29/30\n",
            "37/37 [==============================] - 1s 31ms/step - loss: 0.0013 - val_loss: 0.0015\n",
            "Epoch 30/30\n",
            "37/37 [==============================] - 1s 15ms/step - loss: 0.0011 - val_loss: 0.0020\n"
          ]
        },
        {
          "data": {
            "text/plain": [
              "<keras.callbacks.History at 0x7f2f37c0fb80>"
            ]
          },
          "execution_count": 49,
          "metadata": {},
          "output_type": "execute_result"
        }
      ],
      "source": [
        "# Making the model\n",
        "\n",
        "lstm = Input(shape=(pastcandles, 9), name='LSTM_input')\n",
        "lstm_input = LSTM(150, name='First_layer')(lstm) # LSTM layer with 150 nodes\n",
        "lstm_input = Dense(1, name='Dense_layer')(lstm_input) # Dense layer with 1 node\n",
        "result = Activation('linear', name='Result')(lstm_input)\n",
        "model = Model(inputs=lstm, outputs=result)\n",
        "adam = optimizers.Adam()\n",
        "model.compile(optimizer=adam, loss='mse')\n",
        "model.fit(x=X_train, y=Y_train, batch_size=15, epochs=30, shuffle=True, validation_split=0.1)\n",
        "\n",
        "# lstm_input = Input(shape=(pastcandles, 9), name='lstm_input')\n",
        "# inputs = LSTM(150, name='first_layer')(lstm_input)\n",
        "# inputs = Dense(1, name='dense_layer')(inputs)\n",
        "# output = Activation('linear', name='output')(inputs)\n",
        "# model = Model(inputs=lstm_input, outputs=output)\n",
        "# adam = optimizers.Adam()\n",
        "# model.compile(optimizer=adam, loss='mse')\n",
        "# model.fit(x=X_train, y=Y_train, batch_size=15, epochs=30, shuffle=True, validation_split = 0.1)"
      ]
    },
    {
      "cell_type": "code",
      "execution_count": null,
      "metadata": {
        "colab": {
          "base_uri": "https://localhost:8080/"
        },
        "id": "BUi6cPle8HDs",
        "outputId": "c6206a77-e62b-4ede-8c41-aad8612e9733"
      },
      "outputs": [
        {
          "name": "stdout",
          "output_type": "stream",
          "text": [
            "5/5 [==============================] - 1s 12ms/step\n"
          ]
        }
      ],
      "source": [
        "Prediction = model.predict(X_test)\n",
        "\n",
        "# for i in range(10):\n",
        "#   print(Prediction[i], Y_test[i])"
      ]
    },
    {
      "cell_type": "code",
      "execution_count": null,
      "metadata": {
        "id": "ANOJXmY58bDR"
      },
      "outputs": [],
      "source": [
        "# Using inverse transform to turn it into stock prices for comparison\n",
        "\n",
        "Y_pred = scaler.inverse_transform(np.repeat(Prediction, df_scaled.shape[1], axis=-1))[:,0]"
      ]
    },
    {
      "cell_type": "code",
      "execution_count": null,
      "metadata": {
        "colab": {
          "base_uri": "https://localhost:8080/"
        },
        "id": "k0vRAE4wK85Y",
        "outputId": "1271ff50-340b-4c33-d64b-1fba5868d443"
      },
      "outputs": [
        {
          "name": "stdout",
          "output_type": "stream",
          "text": [
            "[datetime.date(2022, 11, 9), datetime.date(2022, 11, 10), datetime.date(2022, 11, 14), datetime.date(2022, 11, 15), datetime.date(2022, 11, 16), datetime.date(2022, 11, 17), datetime.date(2022, 11, 18), datetime.date(2022, 11, 21), datetime.date(2022, 11, 22), datetime.date(2022, 11, 23), datetime.date(2022, 11, 25), datetime.date(2022, 11, 28), datetime.date(2022, 11, 29), datetime.date(2022, 11, 30), datetime.date(2022, 12, 1), datetime.date(2022, 12, 2), datetime.date(2022, 12, 5), datetime.date(2022, 12, 6), datetime.date(2022, 12, 7), datetime.date(2022, 12, 8), datetime.date(2022, 12, 9), datetime.date(2022, 12, 12), datetime.date(2022, 12, 13), datetime.date(2022, 12, 14), datetime.date(2022, 12, 15), datetime.date(2022, 12, 16), datetime.date(2022, 12, 19), datetime.date(2022, 12, 20), datetime.date(2022, 12, 21), datetime.date(2022, 12, 22), datetime.date(2022, 12, 23), datetime.date(2022, 12, 27), datetime.date(2022, 12, 28), datetime.date(2022, 12, 29), datetime.date(2022, 12, 30), datetime.date(2023, 1, 3), datetime.date(2023, 1, 4), datetime.date(2023, 1, 5), datetime.date(2023, 1, 6), datetime.date(2023, 1, 9), datetime.date(2023, 1, 10), datetime.date(2023, 1, 11), datetime.date(2023, 1, 12), datetime.date(2023, 1, 13), datetime.date(2023, 1, 17), datetime.date(2023, 1, 18), datetime.date(2023, 1, 19), datetime.date(2023, 1, 20), datetime.date(2023, 1, 23), datetime.date(2023, 1, 24), datetime.date(2023, 1, 25), datetime.date(2023, 1, 26), datetime.date(2023, 1, 27), datetime.date(2023, 1, 30), datetime.date(2023, 1, 31), datetime.date(2023, 2, 1), datetime.date(2023, 2, 2), datetime.date(2023, 2, 3), datetime.date(2023, 2, 6), datetime.date(2023, 2, 7), datetime.date(2023, 2, 8), datetime.date(2023, 2, 9), datetime.date(2023, 2, 10), datetime.date(2023, 2, 13), datetime.date(2023, 2, 14), datetime.date(2023, 2, 15), datetime.date(2023, 2, 16), datetime.date(2023, 2, 17), datetime.date(2023, 2, 21), datetime.date(2023, 2, 22), datetime.date(2023, 2, 23), datetime.date(2023, 2, 24), datetime.date(2023, 2, 27), datetime.date(2023, 2, 28), datetime.date(2023, 3, 1), datetime.date(2023, 3, 2), datetime.date(2023, 3, 3), datetime.date(2023, 3, 6), datetime.date(2023, 3, 7), datetime.date(2023, 3, 8), datetime.date(2023, 3, 9), datetime.date(2023, 3, 10), datetime.date(2023, 3, 13), datetime.date(2023, 3, 14), datetime.date(2023, 3, 15), datetime.date(2023, 3, 16), datetime.date(2023, 3, 17), datetime.date(2023, 3, 20), datetime.date(2023, 3, 21), datetime.date(2023, 3, 22), datetime.date(2023, 3, 23), datetime.date(2023, 3, 24), datetime.date(2023, 3, 27), datetime.date(2023, 3, 28), datetime.date(2023, 3, 29), datetime.date(2023, 3, 30), datetime.date(2023, 3, 31), datetime.date(2023, 4, 3), datetime.date(2023, 4, 4), datetime.date(2023, 4, 5), datetime.date(2023, 4, 6), datetime.date(2023, 4, 7), datetime.date(2023, 4, 10), datetime.date(2023, 4, 11), datetime.date(2023, 4, 12), datetime.date(2023, 4, 13), datetime.date(2023, 4, 14), datetime.date(2023, 4, 17), datetime.date(2023, 4, 18), datetime.date(2023, 4, 19), datetime.date(2023, 4, 20), datetime.date(2023, 4, 21), datetime.date(2023, 4, 24), datetime.date(2023, 4, 25), datetime.date(2023, 4, 26), datetime.date(2023, 4, 27), datetime.date(2023, 4, 28), datetime.date(2023, 5, 1), datetime.date(2023, 5, 2), datetime.date(2023, 5, 3), datetime.date(2023, 5, 4), datetime.date(2023, 5, 5), datetime.date(2023, 5, 8), datetime.date(2023, 5, 9), datetime.date(2023, 5, 10), datetime.date(2023, 5, 11), datetime.date(2023, 5, 12), datetime.date(2023, 5, 15), datetime.date(2023, 5, 16), datetime.date(2023, 5, 17), datetime.date(2023, 5, 18), datetime.date(2023, 5, 19), datetime.date(2023, 5, 22), datetime.date(2023, 5, 23), datetime.date(2023, 5, 24), datetime.date(2023, 5, 25), datetime.date(2023, 5, 26), datetime.date(2023, 5, 30), datetime.date(2023, 5, 31), datetime.date(2023, 6, 1), datetime.date(2023, 6, 2), datetime.date(2023, 6, 5), datetime.date(2023, 6, 6), datetime.date(2023, 6, 7), datetime.date(2023, 6, 8), datetime.date(2023, 6, 9), datetime.date(2023, 6, 12), datetime.date(2023, 6, 13), datetime.date(2023, 6, 14), datetime.date(2023, 6, 15), datetime.date(2023, 6, 16), datetime.date(2023, 6, 20), datetime.date(2023, 6, 21)]\n"
          ]
        }
      ],
      "source": [
        "# Adding dates to the predicition\n",
        "\n",
        "from pandas.tseries.holiday import USFederalHolidayCalendar\n",
        "from pandas.tseries.offsets import CustomBusinessDay\n",
        "us_bd = CustomBusinessDay(calendar=USFederalHolidayCalendar())\n",
        "forecast_dates = pd.date_range(list(dates)[-len(X_test)], periods=len(Y_pred), freq=us_bd).tolist()\n",
        "\n",
        "prediction_dates = []\n",
        "\n",
        "for time in forecast_dates:\n",
        "  prediction_dates.append(time.date())\n",
        "\n",
        "print(prediction_dates)"
      ]
    },
    {
      "cell_type": "code",
      "execution_count": null,
      "metadata": {
        "colab": {
          "base_uri": "https://localhost:8080/",
          "height": 599
        },
        "id": "yemNSjN6Qdhj",
        "outputId": "23dd8cfd-7e42-4a64-84dd-a4417a0780f4"
      },
      "outputs": [
        {
          "name": "stderr",
          "output_type": "stream",
          "text": [
            "<ipython-input-56-46047c860080>:11: SettingWithCopyWarning: \n",
            "A value is trying to be set on a copy of a slice from a DataFrame.\n",
            "Try using .loc[row_indexer,col_indexer] = value instead\n",
            "\n",
            "See the caveats in the documentation: https://pandas.pydata.org/pandas-docs/stable/user_guide/indexing.html#returning-a-view-versus-a-copy\n",
            "  original_df['Date'] = pd.to_datetime(original_df['Date'])\n"
          ]
        },
        {
          "data": {
            "text/plain": [
              "<Axes: xlabel='Date', ylabel='Target'>"
            ]
          },
          "execution_count": 56,
          "metadata": {},
          "output_type": "execute_result"
        },
        {
          "data": {
            "image/png": "[encoded data removed]",
            "text/plain": [
              "<Figure size 640x480 with 1 Axes>"
            ]
          },
          "metadata": {},
          "output_type": "display_data"
        }
      ],
      "source": [
        "forecast = pd.DataFrame({'Date':np.array(prediction_dates), 'Target':Y_pred})\n",
        "forecast['Date'] = pd.to_datetime(forecast['Date'])\n",
        "# original_df = df['Target']\n",
        "\n",
        "# og_dates = dates>='2022-08-22'\n",
        "\n",
        "lst = ['Target', 'Date']\n",
        "\n",
        "\n",
        "original_df = og_df[lst]\n",
        "original_df['Date'] = pd.to_datetime(original_df['Date'])\n",
        "original_df = original_df.loc[original_df['Date']>='2022-08-22']\n",
        "\n",
        "# original_df = pd.DateFrame({'Date':dates>='2022'})\n",
        "# print(original_df.head(20))\n",
        "\n",
        "\n",
        "# indeces = []\n",
        "# for i in range(len(original_df)):\n",
        "#   indeces.append(i)\n",
        "# original_df.index= indeces\n",
        "# original_df['Date'] = pd.to_datetime(original_df['Date'])\n",
        "# original_df = original_df.loc[original_df['Date']>='2022-8-22']\n",
        "\n",
        "# # Plotting\n",
        "\n",
        "sns.lineplot(x=original_df['Date'], y=original_df['Target'])\n",
        "sns.lineplot(x=forecast['Date'], y=forecast['Target'])"
      ]
    },
    {
      "cell_type": "code",
      "execution_count": null,
      "metadata": {
        "colab": {
          "base_uri": "https://localhost:8080/",
          "height": 537
        },
        "id": "Uo6qpviTdQMp",
        "outputId": "99c5314f-a90d-4f28-a31d-a497cebb3d65"
      },
      "outputs": [
        {
          "name": "stdout",
          "output_type": "stream",
          "text": [
            "DatetimeIndex(['2023-06-22', '2023-06-23', '2023-06-26', '2023-06-27',\n",
            "               '2023-06-28'],\n",
            "              dtype='datetime64[ns]', freq=None)\n",
            "1/1 [==============================] - 0s 28ms/step\n",
            "(153,)\n"
          ]
        },
        {
          "data": {
            "text/plain": [
              "<Axes: >"
            ]
          },
          "execution_count": 54,
          "metadata": {},
          "output_type": "execute_result"
        },
        {
          "data": {
            "image/png": "[encoded data removed]",
            "text/plain": [
              "<Figure size 640x480 with 1 Axes>"
            ]
          },
          "metadata": {},
          "output_type": "display_data"
        }
      ],
      "source": [
        "from pandas.core.api import DateOffset\n",
        "# Now predicting for the next 5 days\n",
        "\n",
        "futurecandles = 5\n",
        "\n",
        "# Getting the dates in the future\n",
        "\n",
        "futuredates = pd.date_range(list(og_dates)[-1], periods=futurecandles, freq=us_bd).tolist()\n",
        "\n",
        "# for day in futuredates:\n",
        "#   print(day + DateOffset(day=2))\n",
        "# print(type(futuredates))\n",
        "futuredates = pd.to_datetime(futuredates)\n",
        "print(futuredates)\n",
        "# print(dates)\n",
        "\n",
        "future_prediction = model.predict(X_test[-futurecandles:])\n",
        "# future_prediction = np.repeat(future_prediction, df_scaled.shape[1], axis=-1)\n",
        "future_prediction = scaler.inverse_transform(np.repeat(future_prediction, df_scaled.shape[1], axis=-1))[:,0]\n",
        "print(Y_pred.shape)\n",
        "\n",
        "output = pd.DataFrame({'Date':np.array(futuredates)})\n",
        "output['Target'] = future_prediction\n",
        "\n",
        "\n",
        "# Plotting graph\n",
        "\n",
        "sns.lineplot(x=futuredates, y=future_prediction)"
      ]
    },
    {
      "cell_type": "code",
      "execution_count": null,
      "metadata": {
        "id": "Qx4FEFdui9ew"
      },
      "outputs": [],
      "source": []
    }
  ],
  "metadata": {
    "colab": {
      "provenance": []
    },
    "kernelspec": {
      "display_name": "Python 3 (ipykernel)",
      "language": "python",
      "name": "python3"
    },
    "language_info": {
      "codemirror_mode": {
        "name": "ipython",
        "version": 3
      },
      "file_extension": ".py",
      "mimetype": "text/x-python",
      "name": "python",
      "nbconvert_exporter": "python",
      "pygments_lexer": "ipython3",
      "version": "3.10.13"
    }
  },
  "nbformat": 4,
  "nbformat_minor": 0
}
